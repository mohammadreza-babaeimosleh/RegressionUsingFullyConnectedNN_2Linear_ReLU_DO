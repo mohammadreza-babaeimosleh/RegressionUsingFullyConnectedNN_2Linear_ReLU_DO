{
 "cells": [
  {
   "cell_type": "code",
   "execution_count": 1,
   "id": "99fda1da-b1e0-4db1-a3cd-6a12c220e3d4",
   "metadata": {},
   "outputs": [],
   "source": [
    "import torch\n",
    "import hiddenlayer as hl\n",
    "\n",
    "import pandas as pd\n",
    "import numpy as np\n",
    "\n",
    "import seaborn as sns\n",
    "import matplotlib.pyplot as plt\n",
    "\n",
    "import sklearn"
   ]
  },
  {
   "cell_type": "code",
   "execution_count": 2,
   "id": "ef1ebc2d-5499-48c5-a294-5a556b9328a1",
   "metadata": {},
   "outputs": [],
   "source": [
    "data = pd.read_csv(\"/mnt/g/onlinelessons/deep learning/dataset/bike-sharing-demand/bike_sharing.csv\", index_col=0)"
   ]
  },
  {
   "cell_type": "code",
   "execution_count": 3,
   "id": "f85762c4-0cc8-4069-94e0-3888de351b57",
   "metadata": {},
   "outputs": [
    {
     "data": {
      "text/html": [
       "<div>\n",
       "<style scoped>\n",
       "    .dataframe tbody tr th:only-of-type {\n",
       "        vertical-align: middle;\n",
       "    }\n",
       "\n",
       "    .dataframe tbody tr th {\n",
       "        vertical-align: top;\n",
       "    }\n",
       "\n",
       "    .dataframe thead th {\n",
       "        text-align: right;\n",
       "    }\n",
       "</style>\n",
       "<table border=\"1\" class=\"dataframe\">\n",
       "  <thead>\n",
       "    <tr style=\"text-align: right;\">\n",
       "      <th></th>\n",
       "      <th>dteday</th>\n",
       "      <th>season</th>\n",
       "      <th>yr</th>\n",
       "      <th>mnth</th>\n",
       "      <th>holiday</th>\n",
       "      <th>weekday</th>\n",
       "      <th>workingday</th>\n",
       "      <th>weathersit</th>\n",
       "      <th>temp</th>\n",
       "      <th>atemp</th>\n",
       "      <th>hum</th>\n",
       "      <th>windspeed</th>\n",
       "      <th>casual</th>\n",
       "      <th>registered</th>\n",
       "      <th>cnt</th>\n",
       "    </tr>\n",
       "    <tr>\n",
       "      <th>instant</th>\n",
       "      <th></th>\n",
       "      <th></th>\n",
       "      <th></th>\n",
       "      <th></th>\n",
       "      <th></th>\n",
       "      <th></th>\n",
       "      <th></th>\n",
       "      <th></th>\n",
       "      <th></th>\n",
       "      <th></th>\n",
       "      <th></th>\n",
       "      <th></th>\n",
       "      <th></th>\n",
       "      <th></th>\n",
       "      <th></th>\n",
       "    </tr>\n",
       "  </thead>\n",
       "  <tbody>\n",
       "    <tr>\n",
       "      <th>619</th>\n",
       "      <td>11-09-2019</td>\n",
       "      <td>3</td>\n",
       "      <td>1</td>\n",
       "      <td>9</td>\n",
       "      <td>0</td>\n",
       "      <td>2</td>\n",
       "      <td>1</td>\n",
       "      <td>1</td>\n",
       "      <td>23.677500</td>\n",
       "      <td>27.71460</td>\n",
       "      <td>52.0000</td>\n",
       "      <td>6.167631</td>\n",
       "      <td>1070</td>\n",
       "      <td>6697</td>\n",
       "      <td>7767</td>\n",
       "    </tr>\n",
       "    <tr>\n",
       "      <th>76</th>\n",
       "      <td>17-03-2018</td>\n",
       "      <td>1</td>\n",
       "      <td>0</td>\n",
       "      <td>3</td>\n",
       "      <td>0</td>\n",
       "      <td>4</td>\n",
       "      <td>1</td>\n",
       "      <td>1</td>\n",
       "      <td>17.015000</td>\n",
       "      <td>20.51665</td>\n",
       "      <td>60.2917</td>\n",
       "      <td>14.041793</td>\n",
       "      <td>424</td>\n",
       "      <td>2320</td>\n",
       "      <td>2744</td>\n",
       "    </tr>\n",
       "    <tr>\n",
       "      <th>430</th>\n",
       "      <td>06-03-2019</td>\n",
       "      <td>1</td>\n",
       "      <td>1</td>\n",
       "      <td>3</td>\n",
       "      <td>0</td>\n",
       "      <td>2</td>\n",
       "      <td>1</td>\n",
       "      <td>1</td>\n",
       "      <td>10.591653</td>\n",
       "      <td>12.75210</td>\n",
       "      <td>45.6667</td>\n",
       "      <td>13.458625</td>\n",
       "      <td>221</td>\n",
       "      <td>3735</td>\n",
       "      <td>3956</td>\n",
       "    </tr>\n",
       "    <tr>\n",
       "      <th>18</th>\n",
       "      <td>18-01-2018</td>\n",
       "      <td>1</td>\n",
       "      <td>0</td>\n",
       "      <td>1</td>\n",
       "      <td>0</td>\n",
       "      <td>2</td>\n",
       "      <td>1</td>\n",
       "      <td>2</td>\n",
       "      <td>8.883347</td>\n",
       "      <td>11.61665</td>\n",
       "      <td>86.1667</td>\n",
       "      <td>9.833925</td>\n",
       "      <td>9</td>\n",
       "      <td>674</td>\n",
       "      <td>683</td>\n",
       "    </tr>\n",
       "    <tr>\n",
       "      <th>351</th>\n",
       "      <td>17-12-2018</td>\n",
       "      <td>4</td>\n",
       "      <td>0</td>\n",
       "      <td>12</td>\n",
       "      <td>0</td>\n",
       "      <td>6</td>\n",
       "      <td>0</td>\n",
       "      <td>2</td>\n",
       "      <td>10.591653</td>\n",
       "      <td>12.46855</td>\n",
       "      <td>56.0833</td>\n",
       "      <td>16.292189</td>\n",
       "      <td>275</td>\n",
       "      <td>2464</td>\n",
       "      <td>2739</td>\n",
       "    </tr>\n",
       "  </tbody>\n",
       "</table>\n",
       "</div>"
      ],
      "text/plain": [
       "             dteday  season  yr  mnth  holiday  weekday  workingday  \\\n",
       "instant                                                               \n",
       "619      11-09-2019       3   1     9        0        2           1   \n",
       "76       17-03-2018       1   0     3        0        4           1   \n",
       "430      06-03-2019       1   1     3        0        2           1   \n",
       "18       18-01-2018       1   0     1        0        2           1   \n",
       "351      17-12-2018       4   0    12        0        6           0   \n",
       "\n",
       "         weathersit       temp     atemp      hum  windspeed  casual  \\\n",
       "instant                                                                \n",
       "619               1  23.677500  27.71460  52.0000   6.167631    1070   \n",
       "76                1  17.015000  20.51665  60.2917  14.041793     424   \n",
       "430               1  10.591653  12.75210  45.6667  13.458625     221   \n",
       "18                2   8.883347  11.61665  86.1667   9.833925       9   \n",
       "351               2  10.591653  12.46855  56.0833  16.292189     275   \n",
       "\n",
       "         registered   cnt  \n",
       "instant                    \n",
       "619            6697  7767  \n",
       "76             2320  2744  \n",
       "430            3735  3956  \n",
       "18              674   683  \n",
       "351            2464  2739  "
      ]
     },
     "execution_count": 3,
     "metadata": {},
     "output_type": "execute_result"
    }
   ],
   "source": [
    "data.sample(5)"
   ]
  },
  {
   "cell_type": "code",
   "execution_count": 4,
   "id": "746444bc-6331-4787-b8f1-f6a02f0d1c01",
   "metadata": {},
   "outputs": [
    {
     "data": {
      "text/plain": [
       "(730, 15)"
      ]
     },
     "execution_count": 4,
     "metadata": {},
     "output_type": "execute_result"
    }
   ],
   "source": [
    "data.shape"
   ]
  },
  {
   "cell_type": "code",
   "execution_count": 5,
   "id": "66622904-47be-4a96-9362-645052b12fdd",
   "metadata": {},
   "outputs": [
    {
     "data": {
      "text/plain": [
       "Text(0.5, 1.0, 'number of bikes rented per season')"
      ]
     },
     "execution_count": 5,
     "metadata": {},
     "output_type": "execute_result"
    },
    {
     "data": {
      "image/png": "[encoded data removed]",
      "text/plain": [
       "<Figure size 600x600 with 1 Axes>"
      ]
     },
     "metadata": {},
     "output_type": "display_data"
    }
   ],
   "source": [
    "plt.figure(figsize=(6,6))\n",
    "sns.barplot(x='yr', y='cnt', hue='season', data=data, errorbar=None)\n",
    "\n",
    "plt.legend(loc='upper right', bbox_to_anchor=(1.2, 0.5))\n",
    "            \n",
    "plt.xlabel('year') \n",
    "plt.ylabel(\"Total number of bikes rented\")\n",
    "            \n",
    "plt.title(\"number of bikes rented per season\")"
   ]
  },
  {
   "cell_type": "code",
   "execution_count": 6,
   "id": "016a5187-4a7c-45e9-b264-54b3466ed8b1",
   "metadata": {},
   "outputs": [
    {
     "data": {
      "image/png": "[encoded data removed]",
      "text/plain": [
       "<Figure size 600x600 with 1 Axes>"
      ]
     },
     "metadata": {},
     "output_type": "display_data"
    }
   ],
   "source": [
    "plt.figure(figsize=(6,6))\n",
    "sns.barplot(x='mnth', y='cnt', hue='workingday', data=data)\n",
    "\n",
    "plt.xlabel('month')\n",
    "plt.ylabel('bikes rented')\n",
    "plt.title(\"number of rented bikes per mounth\")\n",
    "\n",
    "plt.show()"
   ]
  },
  {
   "cell_type": "code",
   "execution_count": 7,
   "id": "29365704-df6f-4413-8402-3e08ace76214",
   "metadata": {},
   "outputs": [
    {
     "data": {
      "text/plain": [
       "Text(0.5, 1.0, 'Effect of temperature on rented bikes')"
      ]
     },
     "execution_count": 7,
     "metadata": {},
     "output_type": "execute_result"
    },
    {
     "data": {
      "image/png": "[encoded data removed]",
      "text/plain": [
       "<Figure size 600x600 with 1 Axes>"
      ]
     },
     "metadata": {},
     "output_type": "display_data"
    }
   ],
   "source": [
    "plt.figure(figsize=(6,6))\n",
    "sns.scatterplot(x='temp', y='cnt', data=data)\n",
    "\n",
    "plt.xlabel(\"Temperature\")\n",
    "plt.ylabel(\"Bikes rented\")\n",
    "\n",
    "plt.title(\"Effect of temperature on rented bikes\")"
   ]
  },
  {
   "cell_type": "code",
   "execution_count": 8,
   "id": "c46e6b32-ae9d-4d45-9760-ba0734f1fc36",
   "metadata": {},
   "outputs": [
    {
     "data": {
      "text/html": [
       "<div>\n",
       "<style scoped>\n",
       "    .dataframe tbody tr th:only-of-type {\n",
       "        vertical-align: middle;\n",
       "    }\n",
       "\n",
       "    .dataframe tbody tr th {\n",
       "        vertical-align: top;\n",
       "    }\n",
       "\n",
       "    .dataframe thead th {\n",
       "        text-align: right;\n",
       "    }\n",
       "</style>\n",
       "<table border=\"1\" class=\"dataframe\">\n",
       "  <thead>\n",
       "    <tr style=\"text-align: right;\">\n",
       "      <th></th>\n",
       "      <th>dteday</th>\n",
       "      <th>yr</th>\n",
       "      <th>mnth</th>\n",
       "      <th>holiday</th>\n",
       "      <th>weekday</th>\n",
       "      <th>workingday</th>\n",
       "      <th>weathersit</th>\n",
       "      <th>temp</th>\n",
       "      <th>atemp</th>\n",
       "      <th>hum</th>\n",
       "      <th>windspeed</th>\n",
       "      <th>casual</th>\n",
       "      <th>registered</th>\n",
       "      <th>cnt</th>\n",
       "      <th>season_1</th>\n",
       "      <th>season_2</th>\n",
       "      <th>season_3</th>\n",
       "      <th>season_4</th>\n",
       "    </tr>\n",
       "    <tr>\n",
       "      <th>instant</th>\n",
       "      <th></th>\n",
       "      <th></th>\n",
       "      <th></th>\n",
       "      <th></th>\n",
       "      <th></th>\n",
       "      <th></th>\n",
       "      <th></th>\n",
       "      <th></th>\n",
       "      <th></th>\n",
       "      <th></th>\n",
       "      <th></th>\n",
       "      <th></th>\n",
       "      <th></th>\n",
       "      <th></th>\n",
       "      <th></th>\n",
       "      <th></th>\n",
       "      <th></th>\n",
       "      <th></th>\n",
       "    </tr>\n",
       "  </thead>\n",
       "  <tbody>\n",
       "    <tr>\n",
       "      <th>358</th>\n",
       "      <td>24-12-2018</td>\n",
       "      <td>0</td>\n",
       "      <td>12</td>\n",
       "      <td>0</td>\n",
       "      <td>6</td>\n",
       "      <td>0</td>\n",
       "      <td>1</td>\n",
       "      <td>12.402500</td>\n",
       "      <td>14.96210</td>\n",
       "      <td>54.2500</td>\n",
       "      <td>12.750368</td>\n",
       "      <td>155</td>\n",
       "      <td>856</td>\n",
       "      <td>1011</td>\n",
       "      <td>1</td>\n",
       "      <td>0</td>\n",
       "      <td>0</td>\n",
       "      <td>0</td>\n",
       "    </tr>\n",
       "    <tr>\n",
       "      <th>522</th>\n",
       "      <td>06-06-2019</td>\n",
       "      <td>1</td>\n",
       "      <td>6</td>\n",
       "      <td>0</td>\n",
       "      <td>3</td>\n",
       "      <td>1</td>\n",
       "      <td>1</td>\n",
       "      <td>22.720847</td>\n",
       "      <td>27.11460</td>\n",
       "      <td>61.1250</td>\n",
       "      <td>5.167375</td>\n",
       "      <td>1027</td>\n",
       "      <td>6028</td>\n",
       "      <td>7055</td>\n",
       "      <td>0</td>\n",
       "      <td>1</td>\n",
       "      <td>0</td>\n",
       "      <td>0</td>\n",
       "    </tr>\n",
       "    <tr>\n",
       "      <th>531</th>\n",
       "      <td>15-06-2019</td>\n",
       "      <td>1</td>\n",
       "      <td>6</td>\n",
       "      <td>0</td>\n",
       "      <td>5</td>\n",
       "      <td>1</td>\n",
       "      <td>1</td>\n",
       "      <td>26.205847</td>\n",
       "      <td>29.98770</td>\n",
       "      <td>58.9583</td>\n",
       "      <td>11.833339</td>\n",
       "      <td>1563</td>\n",
       "      <td>6102</td>\n",
       "      <td>7665</td>\n",
       "      <td>0</td>\n",
       "      <td>1</td>\n",
       "      <td>0</td>\n",
       "      <td>0</td>\n",
       "    </tr>\n",
       "    <tr>\n",
       "      <th>260</th>\n",
       "      <td>17-09-2018</td>\n",
       "      <td>0</td>\n",
       "      <td>9</td>\n",
       "      <td>0</td>\n",
       "      <td>6</td>\n",
       "      <td>0</td>\n",
       "      <td>2</td>\n",
       "      <td>20.158347</td>\n",
       "      <td>23.92560</td>\n",
       "      <td>71.8333</td>\n",
       "      <td>12.708225</td>\n",
       "      <td>1434</td>\n",
       "      <td>3077</td>\n",
       "      <td>4511</td>\n",
       "      <td>0</td>\n",
       "      <td>0</td>\n",
       "      <td>1</td>\n",
       "      <td>0</td>\n",
       "    </tr>\n",
       "    <tr>\n",
       "      <th>93</th>\n",
       "      <td>03-04-2018</td>\n",
       "      <td>0</td>\n",
       "      <td>4</td>\n",
       "      <td>0</td>\n",
       "      <td>0</td>\n",
       "      <td>0</td>\n",
       "      <td>1</td>\n",
       "      <td>15.511653</td>\n",
       "      <td>18.93835</td>\n",
       "      <td>48.0000</td>\n",
       "      <td>12.208271</td>\n",
       "      <td>1651</td>\n",
       "      <td>1598</td>\n",
       "      <td>3249</td>\n",
       "      <td>0</td>\n",
       "      <td>1</td>\n",
       "      <td>0</td>\n",
       "      <td>0</td>\n",
       "    </tr>\n",
       "  </tbody>\n",
       "</table>\n",
       "</div>"
      ],
      "text/plain": [
       "             dteday  yr  mnth  holiday  weekday  workingday  weathersit  \\\n",
       "instant                                                                   \n",
       "358      24-12-2018   0    12        0        6           0           1   \n",
       "522      06-06-2019   1     6        0        3           1           1   \n",
       "531      15-06-2019   1     6        0        5           1           1   \n",
       "260      17-09-2018   0     9        0        6           0           2   \n",
       "93       03-04-2018   0     4        0        0           0           1   \n",
       "\n",
       "              temp     atemp      hum  windspeed  casual  registered   cnt  \\\n",
       "instant                                                                      \n",
       "358      12.402500  14.96210  54.2500  12.750368     155         856  1011   \n",
       "522      22.720847  27.11460  61.1250   5.167375    1027        6028  7055   \n",
       "531      26.205847  29.98770  58.9583  11.833339    1563        6102  7665   \n",
       "260      20.158347  23.92560  71.8333  12.708225    1434        3077  4511   \n",
       "93       15.511653  18.93835  48.0000  12.208271    1651        1598  3249   \n",
       "\n",
       "         season_1  season_2  season_3  season_4  \n",
       "instant                                          \n",
       "358             1         0         0         0  \n",
       "522             0         1         0         0  \n",
       "531             0         1         0         0  \n",
       "260             0         0         1         0  \n",
       "93              0         1         0         0  "
      ]
     },
     "execution_count": 8,
     "metadata": {},
     "output_type": "execute_result"
    }
   ],
   "source": [
    "data = pd.get_dummies(data, columns=['season'])\n",
    "data.sample(5)"
   ]
  },
  {
   "cell_type": "code",
   "execution_count": 9,
   "id": "b9fceaaf-d498-4531-b167-889cdaa5b3a7",
   "metadata": {},
   "outputs": [
    {
     "data": {
      "text/html": [
       "<div>\n",
       "<style scoped>\n",
       "    .dataframe tbody tr th:only-of-type {\n",
       "        vertical-align: middle;\n",
       "    }\n",
       "\n",
       "    .dataframe tbody tr th {\n",
       "        vertical-align: top;\n",
       "    }\n",
       "\n",
       "    .dataframe thead th {\n",
       "        text-align: right;\n",
       "    }\n",
       "</style>\n",
       "<table border=\"1\" class=\"dataframe\">\n",
       "  <thead>\n",
       "    <tr style=\"text-align: right;\">\n",
       "      <th></th>\n",
       "      <th>cnt</th>\n",
       "    </tr>\n",
       "    <tr>\n",
       "      <th>instant</th>\n",
       "      <th></th>\n",
       "    </tr>\n",
       "  </thead>\n",
       "  <tbody>\n",
       "    <tr>\n",
       "      <th>1</th>\n",
       "      <td>985</td>\n",
       "    </tr>\n",
       "    <tr>\n",
       "      <th>2</th>\n",
       "      <td>801</td>\n",
       "    </tr>\n",
       "    <tr>\n",
       "      <th>3</th>\n",
       "      <td>1349</td>\n",
       "    </tr>\n",
       "    <tr>\n",
       "      <th>4</th>\n",
       "      <td>1562</td>\n",
       "    </tr>\n",
       "    <tr>\n",
       "      <th>5</th>\n",
       "      <td>1600</td>\n",
       "    </tr>\n",
       "    <tr>\n",
       "      <th>...</th>\n",
       "      <td>...</td>\n",
       "    </tr>\n",
       "    <tr>\n",
       "      <th>726</th>\n",
       "      <td>2114</td>\n",
       "    </tr>\n",
       "    <tr>\n",
       "      <th>727</th>\n",
       "      <td>3095</td>\n",
       "    </tr>\n",
       "    <tr>\n",
       "      <th>728</th>\n",
       "      <td>1341</td>\n",
       "    </tr>\n",
       "    <tr>\n",
       "      <th>729</th>\n",
       "      <td>1796</td>\n",
       "    </tr>\n",
       "    <tr>\n",
       "      <th>730</th>\n",
       "      <td>2729</td>\n",
       "    </tr>\n",
       "  </tbody>\n",
       "</table>\n",
       "<p>730 rows × 1 columns</p>\n",
       "</div>"
      ],
      "text/plain": [
       "          cnt\n",
       "instant      \n",
       "1         985\n",
       "2         801\n",
       "3        1349\n",
       "4        1562\n",
       "5        1600\n",
       "...       ...\n",
       "726      2114\n",
       "727      3095\n",
       "728      1341\n",
       "729      1796\n",
       "730      2729\n",
       "\n",
       "[730 rows x 1 columns]"
      ]
     },
     "execution_count": 9,
     "metadata": {},
     "output_type": "execute_result"
    }
   ],
   "source": [
    "feature_columns=['registered', 'holiday', 'weekday',\n",
    "                 'weathersit', 'temp', 'atemp',\n",
    "                 'season_1', 'season_2', 'season_3',\n",
    "                 'season_4']\n",
    "features = data[feature_columns]\n",
    "target = data[['cnt']]\n",
    "target"
   ]
  },
  {
   "cell_type": "code",
   "execution_count": 10,
   "id": "edbc9895-5b1c-42fa-aedf-4a42b779ca03",
   "metadata": {},
   "outputs": [],
   "source": [
    "from sklearn.model_selection import train_test_split"
   ]
  },
  {
   "cell_type": "code",
   "execution_count": 11,
   "id": "fa294c4a-2a7f-4d83-88be-7716da6c11b5",
   "metadata": {},
   "outputs": [],
   "source": [
    "X_train, x_test, Y_train, y_test = train_test_split(features,\n",
    "                                                    target,\n",
    "                                                    test_size=0.2)\n",
    "                                                    "
   ]
  },
  {
   "cell_type": "code",
   "execution_count": 12,
   "id": "a91b965c-761c-4fa4-bb66-d498e5318d94",
   "metadata": {},
   "outputs": [],
   "source": [
    "X_train_tensor = torch.tensor(X_train.values, dtype=torch.float)\n",
    "Y_train_tensor = torch.tensor(Y_train.values, dtype=torch.float)\n",
    "\n",
    "x_test_tensor = torch.tensor(x_test.values, dtype=torch.float)\n",
    "y_test_tensor = torch.tensor(y_test.values, dtype=torch.float)"
   ]
  },
  {
   "cell_type": "code",
   "execution_count": 13,
   "id": "4f4e4df1-38fa-4374-b51a-a858813742aa",
   "metadata": {},
   "outputs": [
    {
     "data": {
      "text/plain": [
       "torch.Size([584, 10])"
      ]
     },
     "execution_count": 13,
     "metadata": {},
     "output_type": "execute_result"
    }
   ],
   "source": [
    "X_train_tensor.shape"
   ]
  },
  {
   "cell_type": "code",
   "execution_count": 14,
   "id": "0f06a37d-7f0a-41b8-9a08-4cce68451e82",
   "metadata": {},
   "outputs": [
    {
     "data": {
      "text/plain": [
       "torch.Size([146, 1])"
      ]
     },
     "execution_count": 14,
     "metadata": {},
     "output_type": "execute_result"
    }
   ],
   "source": [
    "y_test_tensor.shape"
   ]
  },
  {
   "cell_type": "code",
   "execution_count": 15,
   "id": "94c31c11-b75e-4ed6-89ec-1259fa5154a4",
   "metadata": {},
   "outputs": [],
   "source": [
    "import torch.utils.data as data_utils"
   ]
  },
  {
   "cell_type": "code",
   "execution_count": 16,
   "id": "e6c5a95d-1c5d-40e7-b31b-ee0e7fafc06c",
   "metadata": {},
   "outputs": [],
   "source": [
    "train_data = data_utils.TensorDataset(X_train_tensor, Y_train_tensor)"
   ]
  },
  {
   "cell_type": "code",
   "execution_count": 17,
   "id": "ef1f3702-8b87-4591-b9d3-81696513323d",
   "metadata": {},
   "outputs": [],
   "source": [
    "train_loader = data_utils.DataLoader(train_data, batch_size=100, shuffle=True)"
   ]
  },
  {
   "cell_type": "code",
   "execution_count": 18,
   "id": "afcb1e01-de9f-4687-89ce-0008e964d04d",
   "metadata": {},
   "outputs": [
    {
     "data": {
      "text/plain": [
       "6"
      ]
     },
     "execution_count": 18,
     "metadata": {},
     "output_type": "execute_result"
    }
   ],
   "source": [
    "len(train_loader)"
   ]
  },
  {
   "cell_type": "code",
   "execution_count": 19,
   "id": "ab201bf6-37bd-4ce1-99ca-d943a127c13c",
   "metadata": {},
   "outputs": [],
   "source": [
    "features_batch, targets_batch = next(iter(train_loader))"
   ]
  },
  {
   "cell_type": "code",
   "execution_count": 20,
   "id": "e32be457-ac76-40d8-8295-3f4f29639055",
   "metadata": {},
   "outputs": [
    {
     "data": {
      "text/plain": [
       "torch.Size([100, 10])"
      ]
     },
     "execution_count": 20,
     "metadata": {},
     "output_type": "execute_result"
    }
   ],
   "source": [
    "features_batch.shape"
   ]
  },
  {
   "cell_type": "code",
   "execution_count": 21,
   "id": "8579a980-74e6-4780-abf1-2c14b2ecff2a",
   "metadata": {},
   "outputs": [
    {
     "data": {
      "text/plain": [
       "torch.Size([100, 1])"
      ]
     },
     "execution_count": 21,
     "metadata": {},
     "output_type": "execute_result"
    }
   ],
   "source": [
    "targets_batch.shape"
   ]
  },
  {
   "cell_type": "code",
   "execution_count": 22,
   "id": "02fce680-4405-4611-a69d-74d4219c768f",
   "metadata": {},
   "outputs": [],
   "source": [
    "input_size = X_train_tensor.shape[1]\n",
    "output_size = 1\n",
    "hidden_layer_size = 10"
   ]
  },
  {
   "cell_type": "code",
   "execution_count": 23,
   "id": "d2521af4-e6f7-4119-8e51-8cb072c5ed6b",
   "metadata": {},
   "outputs": [],
   "source": [
    "loss_fn = torch.nn.MSELoss()"
   ]
  },
  {
   "cell_type": "code",
   "execution_count": 24,
   "id": "aa63023a-62e8-4aa7-96ed-0e96f88f8998",
   "metadata": {},
   "outputs": [],
   "source": [
    "model = torch.nn.Sequential(torch.nn.Linear(input_size, hidden_layer_size),\n",
    "                            torch.nn.ReLU(),\n",
    "                            torch.nn.Dropout(p=0.2),\n",
    "                            torch.nn.Linear(hidden_layer_size, output_size))"
   ]
  },
  {
   "cell_type": "code",
   "execution_count": 25,
   "id": "756cc058-d2ad-4c21-8a57-554fd1101ff7",
   "metadata": {},
   "outputs": [
    {
     "name": "stderr",
     "output_type": "stream",
     "text": [
      "/home/ghostoftime111/anaconda3/envs/DP/lib/python3.10/site-packages/torch/onnx/symbolic_helper.py:1457: UserWarning: ONNX export mode is set to TrainingMode.EVAL, but operator 'dropout' is set to train=True. Exporting with train=True.\n",
      "  warnings.warn(\n",
      "/home/ghostoftime111/anaconda3/envs/DP/lib/python3.10/site-packages/hiddenlayer/pytorch_builder.py:82: FutureWarning: 'torch.onnx._patch_torch._node_getitem' is deprecated in version 1.13 and will be removed in version 1.14. Please Internally use '_node_get' in symbolic_helper instead..\n",
      "  params = {k: torch_node[k] for k in torch_node.attributeNames()}\n"
     ]
    },
    {
     "data": {
      "image/svg+xml": [
       "<?xml version=\"1.0\" encoding=\"UTF-8\" standalone=\"no\"?>\n",
       "<!DOCTYPE svg PUBLIC \"-//W3C//DTD SVG 1.1//EN\"\n",
       " \"http://www.w3.org/Graphics/SVG/1.1/DTD/svg11.dtd\">\n",
       "<!-- Generated by graphviz version 2.43.0 (0)\n",
       " -->\n",
       "<!-- Title: %3 Pages: 1 -->\n",
       "<svg width=\"397pt\" height=\"216pt\"\n",
       " viewBox=\"0.00 0.00 397.00 216.00\" xmlns=\"http://www.w3.org/2000/svg\" xmlns:xlink=\"http://www.w3.org/1999/xlink\">\n",
       "<g id=\"graph0\" class=\"graph\" transform=\"scale(1 1) rotate(0) translate(72 180)\">\n",
       "<title>%3</title>\n",
       "<polygon fill=\"#ffffff\" stroke=\"transparent\" points=\"-72,36 -72,-180 325,-180 325,36 -72,36\"/>\n",
       "<!-- /outputs/7 -->\n",
       "<g id=\"node1\" class=\"node\">\n",
       "<title>/outputs/7</title>\n",
       "<polygon fill=\"#e8e8e8\" stroke=\"#000000\" points=\"63.5,-144 9.5,-144 9.5,-108 63.5,-108 63.5,-144\"/>\n",
       "<text text-anchor=\"start\" x=\"18.5\" y=\"-123\" font-family=\"Times\" font-size=\"10.00\" fill=\"#000000\">Constant</text>\n",
       "</g>\n",
       "<!-- /outputs/9/10 -->\n",
       "<g id=\"node3\" class=\"node\">\n",
       "<title>/outputs/9/10</title>\n",
       "<polygon fill=\"#e8e8e8\" stroke=\"#000000\" points=\"163,-90 109,-90 109,-54 163,-54 163,-90\"/>\n",
       "<text text-anchor=\"start\" x=\"119\" y=\"-69\" font-family=\"Times\" font-size=\"10.00\" fill=\"#000000\">Dropout</text>\n",
       "</g>\n",
       "<!-- /outputs/7&#45;&gt;/outputs/9/10 -->\n",
       "<g id=\"edge1\" class=\"edge\">\n",
       "<title>/outputs/7&#45;&gt;/outputs/9/10</title>\n",
       "<path fill=\"none\" stroke=\"#000000\" d=\"M63.63,-111.53C74.78,-105.35 87.95,-98.06 99.93,-91.42\"/>\n",
       "<polygon fill=\"#000000\" stroke=\"#000000\" points=\"101.75,-94.42 108.8,-86.51 98.36,-88.29 101.75,-94.42\"/>\n",
       "</g>\n",
       "<!-- /outputs/8 -->\n",
       "<g id=\"node2\" class=\"node\">\n",
       "<title>/outputs/8</title>\n",
       "<polygon fill=\"#e8e8e8\" stroke=\"#000000\" points=\"63.5,-90 9.5,-90 9.5,-54 63.5,-54 63.5,-90\"/>\n",
       "<text text-anchor=\"start\" x=\"18.5\" y=\"-69\" font-family=\"Times\" font-size=\"10.00\" fill=\"#000000\">Constant</text>\n",
       "</g>\n",
       "<!-- /outputs/8&#45;&gt;/outputs/9/10 -->\n",
       "<g id=\"edge2\" class=\"edge\">\n",
       "<title>/outputs/8&#45;&gt;/outputs/9/10</title>\n",
       "<path fill=\"none\" stroke=\"#000000\" d=\"M63.63,-72C74.34,-72 86.92,-72 98.51,-72\"/>\n",
       "<polygon fill=\"#000000\" stroke=\"#000000\" points=\"98.8,-75.5 108.8,-72 98.8,-68.5 98.8,-75.5\"/>\n",
       "</g>\n",
       "<!-- /outputs/11 -->\n",
       "<g id=\"node4\" class=\"node\">\n",
       "<title>/outputs/11</title>\n",
       "<polygon fill=\"#e8e8e8\" stroke=\"#000000\" points=\"253,-90 199,-90 199,-54 253,-54 253,-90\"/>\n",
       "<text text-anchor=\"start\" x=\"213\" y=\"-69\" font-family=\"Times\" font-size=\"10.00\" fill=\"#000000\">Linear</text>\n",
       "</g>\n",
       "<!-- /outputs/9/10&#45;&gt;/outputs/11 -->\n",
       "<g id=\"edge3\" class=\"edge\">\n",
       "<title>/outputs/9/10&#45;&gt;/outputs/11</title>\n",
       "<path fill=\"none\" stroke=\"#000000\" d=\"M163.4,-72C171.39,-72 180.31,-72 188.82,-72\"/>\n",
       "<polygon fill=\"#000000\" stroke=\"#000000\" points=\"188.92,-75.5 198.92,-72 188.92,-68.5 188.92,-75.5\"/>\n",
       "</g>\n",
       "<!-- 6476587006183156852 -->\n",
       "<g id=\"node5\" class=\"node\">\n",
       "<title>6476587006183156852</title>\n",
       "<polygon fill=\"#e8e8e8\" stroke=\"#000000\" points=\"73,-36 0,-36 0,0 73,0 73,-36\"/>\n",
       "<text text-anchor=\"start\" x=\"8.5\" y=\"-15\" font-family=\"Times\" font-size=\"10.00\" fill=\"#000000\">Linear &gt; Relu</text>\n",
       "</g>\n",
       "<!-- 6476587006183156852&#45;&gt;/outputs/9/10 -->\n",
       "<g id=\"edge4\" class=\"edge\">\n",
       "<title>6476587006183156852&#45;&gt;/outputs/9/10</title>\n",
       "<path fill=\"none\" stroke=\"#000000\" d=\"M70.24,-36.13C79.8,-41.43 90.28,-47.23 99.97,-52.6\"/>\n",
       "<polygon fill=\"#000000\" stroke=\"#000000\" points=\"98.53,-55.8 108.97,-57.58 101.92,-49.68 98.53,-55.8\"/>\n",
       "</g>\n",
       "</g>\n",
       "</svg>\n"
      ],
      "text/plain": [
       "<graphviz.graphs.Digraph at 0x7f45a06addb0>"
      ]
     },
     "execution_count": 25,
     "metadata": {},
     "output_type": "execute_result"
    }
   ],
   "source": [
    "hl.build_graph(model, torch.zeros([hidden_layer_size, input_size])).build_dot()"
   ]
  },
  {
   "cell_type": "code",
   "execution_count": 26,
   "id": "70434975-000a-4e80-b3a3-74d0031ebfa3",
   "metadata": {},
   "outputs": [],
   "source": [
    "learning_rate = 0.001\n",
    "optimizer = torch.optim.Adam(model.parameters(), lr=learning_rate)"
   ]
  },
  {
   "cell_type": "code",
   "execution_count": 27,
   "id": "d1c8fa47-c17f-4d34-b5e4-079fc6ded923",
   "metadata": {},
   "outputs": [
    {
     "name": "stdout",
     "output_type": "stream",
     "text": [
      "Epoch [1]/[0], Step: 1/6, Loss: 23660508.0000\n",
      "Epoch [1]/[0], Step: 2/6, Loss: 28215488.0000\n",
      "Epoch [1]/[0], Step: 3/6, Loss: 24479944.0000\n",
      "Epoch [1]/[0], Step: 4/6, Loss: 24987310.0000\n",
      "Epoch [1]/[0], Step: 5/6, Loss: 24385480.0000\n",
      "Epoch [1]/[0], Step: 6/6, Loss: 23785826.0000\n",
      "Epoch [2001]/[2000], Step: 1/6, Loss: 1767124.7500\n",
      "Epoch [2001]/[2000], Step: 2/6, Loss: 1952407.6250\n",
      "Epoch [2001]/[2000], Step: 3/6, Loss: 1856343.3750\n",
      "Epoch [2001]/[2000], Step: 4/6, Loss: 2348398.5000\n",
      "Epoch [2001]/[2000], Step: 5/6, Loss: 2161101.0000\n",
      "Epoch [2001]/[2000], Step: 6/6, Loss: 1913115.7500\n",
      "Epoch [4001]/[4000], Step: 1/6, Loss: 1531450.3750\n",
      "Epoch [4001]/[4000], Step: 2/6, Loss: 1485061.0000\n",
      "Epoch [4001]/[4000], Step: 3/6, Loss: 1712696.6250\n",
      "Epoch [4001]/[4000], Step: 4/6, Loss: 2187713.5000\n",
      "Epoch [4001]/[4000], Step: 5/6, Loss: 2567527.0000\n",
      "Epoch [4001]/[4000], Step: 6/6, Loss: 2436605.5000\n",
      "Epoch [6001]/[6000], Step: 1/6, Loss: 2437431.5000\n",
      "Epoch [6001]/[6000], Step: 2/6, Loss: 1821042.3750\n",
      "Epoch [6001]/[6000], Step: 3/6, Loss: 2357877.5000\n",
      "Epoch [6001]/[6000], Step: 4/6, Loss: 1467125.2500\n",
      "Epoch [6001]/[6000], Step: 5/6, Loss: 2084932.7500\n",
      "Epoch [6001]/[6000], Step: 6/6, Loss: 2621963.5000\n",
      "Epoch [8001]/[8000], Step: 1/6, Loss: 1784151.0000\n",
      "Epoch [8001]/[8000], Step: 2/6, Loss: 1704601.1250\n",
      "Epoch [8001]/[8000], Step: 3/6, Loss: 2117214.5000\n",
      "Epoch [8001]/[8000], Step: 4/6, Loss: 2356625.0000\n",
      "Epoch [8001]/[8000], Step: 5/6, Loss: 1680046.5000\n",
      "Epoch [8001]/[8000], Step: 6/6, Loss: 1655806.1250\n",
      "Epoch [10001]/[10000], Step: 1/6, Loss: 2179658.7500\n",
      "Epoch [10001]/[10000], Step: 2/6, Loss: 1865518.2500\n",
      "Epoch [10001]/[10000], Step: 3/6, Loss: 2794582.0000\n",
      "Epoch [10001]/[10000], Step: 4/6, Loss: 1933316.1250\n",
      "Epoch [10001]/[10000], Step: 5/6, Loss: 2410664.2500\n",
      "Epoch [10001]/[10000], Step: 6/6, Loss: 1616654.8750\n"
     ]
    }
   ],
   "source": [
    "total_step = len(train_loader)\n",
    "\n",
    "num_epochs = 10000\n",
    "\n",
    "for epoch in range(num_epochs + 1):\n",
    "    for i, (features, target) in enumerate(train_loader):\n",
    "        \n",
    "        output = model(features)\n",
    "        loss = loss_fn(output, target)\n",
    "        \n",
    "        optimizer.zero_grad()\n",
    "        \n",
    "        loss.backward()\n",
    "        \n",
    "        optimizer.step()\n",
    "        \n",
    "        if epoch % 2000 == 0:\n",
    "            print(f\"Epoch [{epoch + 1}]/[{epoch}], Step: {i+1}/{total_step}, Loss: {loss.item():.4f}\") \n",
    "            "
   ]
  },
  {
   "cell_type": "code",
   "execution_count": 28,
   "id": "2feec007-3724-4d29-bc5d-900b1d15805c",
   "metadata": {},
   "outputs": [],
   "source": [
    "model.eval()\n",
    "\n",
    "with torch.no_grad():\n",
    "    y_pred = model(x_test_tensor)"
   ]
  },
  {
   "cell_type": "code",
   "execution_count": 29,
   "id": "c853a631-999e-442f-91c9-ddeda01d8c79",
   "metadata": {},
   "outputs": [
    {
     "data": {
      "text/plain": [
       "registered    6911.000000\n",
       "holiday          0.000000\n",
       "weekday          3.000000\n",
       "weathersit       1.000000\n",
       "temp            21.080847\n",
       "atemp           25.157100\n",
       "season_1         0.000000\n",
       "season_2         0.000000\n",
       "season_3         0.000000\n",
       "season_4         1.000000\n",
       "Name: 648, dtype: float64"
      ]
     },
     "execution_count": 29,
     "metadata": {},
     "output_type": "execute_result"
    }
   ],
   "source": [
    "sample = x_test.iloc[21]\n",
    "sample"
   ]
  },
  {
   "cell_type": "code",
   "execution_count": 30,
   "id": "85fe6d11-7467-4292-ae11-d6af2200bf3c",
   "metadata": {},
   "outputs": [
    {
     "data": {
      "text/plain": [
       "tensor([6.9110e+03, 0.0000e+00, 3.0000e+00, 1.0000e+00, 2.1081e+01, 2.5157e+01,\n",
       "        0.0000e+00, 0.0000e+00, 0.0000e+00, 1.0000e+00])"
      ]
     },
     "execution_count": 30,
     "metadata": {},
     "output_type": "execute_result"
    }
   ],
   "source": [
    "sample_tensor = torch.tensor(sample, dtype=torch.float)\n",
    "sample_tensor"
   ]
  },
  {
   "cell_type": "code",
   "execution_count": 31,
   "id": "f9e8aa02-ebc3-4b45-a736-9f3a6db4f50c",
   "metadata": {},
   "outputs": [
    {
     "name": "stdout",
     "output_type": "stream",
     "text": [
      "Predicted:  7285.9150390625\n",
      "Actual:  cnt    7691\n",
      "Name: 648, dtype: int64\n"
     ]
    }
   ],
   "source": [
    "with torch.no_grad():\n",
    "    y_pred = model(sample_tensor)\n",
    "    \n",
    "print(\"Predicted: \", y_pred.item())\n",
    "print(\"Actual: \", y_test.iloc[21])"
   ]
  },
  {
   "cell_type": "code",
   "execution_count": 32,
   "id": "76dc3060-ca4e-46d3-aae4-9c88d1b95941",
   "metadata": {},
   "outputs": [],
   "source": [
    "with torch.no_grad():\n",
    "    y_pred_tensor = model(x_test_tensor)"
   ]
  },
  {
   "cell_type": "code",
   "execution_count": 33,
   "id": "1261d3f0-28c9-40aa-944d-f0a69594758f",
   "metadata": {},
   "outputs": [
    {
     "data": {
      "text/plain": [
       "(146, 1)"
      ]
     },
     "execution_count": 33,
     "metadata": {},
     "output_type": "execute_result"
    }
   ],
   "source": [
    "y_pred = y_pred_tensor.detach().numpy()\n",
    "y_pred.shape"
   ]
  },
  {
   "cell_type": "code",
   "execution_count": 34,
   "id": "fbdefe9c-a52b-426b-b220-5ab49a2ffc47",
   "metadata": {},
   "outputs": [
    {
     "data": {
      "text/plain": [
       "(146, 1)"
      ]
     },
     "execution_count": 34,
     "metadata": {},
     "output_type": "execute_result"
    }
   ],
   "source": [
    "y_test.values.shape"
   ]
  },
  {
   "cell_type": "code",
   "execution_count": 35,
   "id": "0844ae0c-3f02-42c9-8d15-76475f01e94c",
   "metadata": {},
   "outputs": [
    {
     "data": {
      "text/html": [
       "<div>\n",
       "<style scoped>\n",
       "    .dataframe tbody tr th:only-of-type {\n",
       "        vertical-align: middle;\n",
       "    }\n",
       "\n",
       "    .dataframe tbody tr th {\n",
       "        vertical-align: top;\n",
       "    }\n",
       "\n",
       "    .dataframe thead th {\n",
       "        text-align: right;\n",
       "    }\n",
       "</style>\n",
       "<table border=\"1\" class=\"dataframe\">\n",
       "  <thead>\n",
       "    <tr style=\"text-align: right;\">\n",
       "      <th></th>\n",
       "      <th>actual</th>\n",
       "      <th>predicted</th>\n",
       "    </tr>\n",
       "  </thead>\n",
       "  <tbody>\n",
       "    <tr>\n",
       "      <th>0</th>\n",
       "      <td>3115</td>\n",
       "      <td>3121.921143</td>\n",
       "    </tr>\n",
       "    <tr>\n",
       "      <th>53</th>\n",
       "      <td>3785</td>\n",
       "      <td>3419.306885</td>\n",
       "    </tr>\n",
       "    <tr>\n",
       "      <th>8</th>\n",
       "      <td>822</td>\n",
       "      <td>830.400635</td>\n",
       "    </tr>\n",
       "    <tr>\n",
       "      <th>20</th>\n",
       "      <td>5870</td>\n",
       "      <td>5733.639648</td>\n",
       "    </tr>\n",
       "    <tr>\n",
       "      <th>145</th>\n",
       "      <td>7282</td>\n",
       "      <td>6505.332520</td>\n",
       "    </tr>\n",
       "    <tr>\n",
       "      <th>139</th>\n",
       "      <td>3141</td>\n",
       "      <td>3106.146973</td>\n",
       "    </tr>\n",
       "    <tr>\n",
       "      <th>113</th>\n",
       "      <td>5611</td>\n",
       "      <td>5301.246094</td>\n",
       "    </tr>\n",
       "    <tr>\n",
       "      <th>73</th>\n",
       "      <td>1495</td>\n",
       "      <td>1424.434204</td>\n",
       "    </tr>\n",
       "    <tr>\n",
       "      <th>82</th>\n",
       "      <td>5409</td>\n",
       "      <td>3689.711914</td>\n",
       "    </tr>\n",
       "    <tr>\n",
       "      <th>107</th>\n",
       "      <td>4996</td>\n",
       "      <td>3955.315674</td>\n",
       "    </tr>\n",
       "  </tbody>\n",
       "</table>\n",
       "</div>"
      ],
      "text/plain": [
       "     actual    predicted\n",
       "0      3115  3121.921143\n",
       "53     3785  3419.306885\n",
       "8       822   830.400635\n",
       "20     5870  5733.639648\n",
       "145    7282  6505.332520\n",
       "139    3141  3106.146973\n",
       "113    5611  5301.246094\n",
       "73     1495  1424.434204\n",
       "82     5409  3689.711914\n",
       "107    4996  3955.315674"
      ]
     },
     "execution_count": 35,
     "metadata": {},
     "output_type": "execute_result"
    }
   ],
   "source": [
    "compare_df = pd.DataFrame({'actual': np.squeeze(y_test.values), 'predicted': np.squeeze(y_pred)})\n",
    "compare_df.sample(10)"
   ]
  },
  {
   "cell_type": "code",
   "execution_count": 36,
   "id": "4b295faf-c4ee-4277-ac04-0a5820c1134d",
   "metadata": {},
   "outputs": [
    {
     "data": {
      "text/plain": [
       "0.8410424704406244"
      ]
     },
     "execution_count": 36,
     "metadata": {},
     "output_type": "execute_result"
    }
   ],
   "source": [
    "sklearn.metrics.r2_score(y_test, y_pred)"
   ]
  },
  {
   "cell_type": "code",
   "execution_count": 37,
   "id": "6fcf6c16-5ebb-4bac-a7aa-b44413ab4f35",
   "metadata": {},
   "outputs": [
    {
     "data": {
      "image/png": "[encoded data removed]",
      "text/plain": [
       "<Figure size 600x600 with 1 Axes>"
      ]
     },
     "metadata": {},
     "output_type": "display_data"
    }
   ],
   "source": [
    "plt.figure(figsize=(6,6))\n",
    "\n",
    "plt.scatter(y_pred, y_test.values, s=100)\n",
    "\n",
    "plt.xlabel('Actual values')\n",
    "plt.ylabel('Predicted values')\n",
    "\n",
    "plt.show()"
   ]
  }
 ],
 "metadata": {
  "kernelspec": {
   "display_name": "Python 3 (ipykernel)",
   "language": "python",
   "name": "python3"
  },
  "language_info": {
   "codemirror_mode": {
    "name": "ipython",
    "version": 3
   },
   "file_extension": ".py",
   "mimetype": "text/x-python",
   "name": "python",
   "nbconvert_exporter": "python",
   "pygments_lexer": "ipython3",
   "version": "3.10.0"
  }
 },
 "nbformat": 4,
 "nbformat_minor": 5
}
